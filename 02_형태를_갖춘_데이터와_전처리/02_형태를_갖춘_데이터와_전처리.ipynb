{
 "cells": [
  {
   "cell_type": "markdown",
   "metadata": {
    "deletable": false,
    "editable": false
   },
   "source": [
    "<div style=\"padding: 15px; border: 5px solid transparent; border-color: transparent; margin-bottom: 20px; border-radius: 4px; color: #3c763d; background-color: #dff0d8; border-color: #d6e9c6; font-weight: bold;\">\n",
    "    <br><br>\n",
    "    <div style=\"font-weight: bold; font-size: 40px\">인공지능 기초과정</div>\n",
    "    <div style=\"font-weight: bold; font-size: 20px\">[02] 형태를 갖춘 데이터와 전처리</div>\n",
    "    <hr style=\"width:80%;text-align:left;margin-left:0;border:0.5px solid green\">\n",
    "    <br>\n",
    "    &#x2022; 정형 데이터의 형태와 특징에 대해 이해할 수 있다.<br>\n",
    "    &#x2022; 정형 데이터의 구조를 살펴보고 활용하기 쉽게 전처리할 수 있다.<br>\n",
    "</div>"
   ]
  },
  {
   "cell_type": "markdown",
   "metadata": {
    "deletable": false,
    "editable": false,
    "tags": []
   },
   "source": [
    "<div style=\"padding: 15px; border: 5px solid transparent; border-color: transparent; margin-bottom: 20px; border-radius: 4px; color: #3c763d; border-color: #d6e9c6; font-weight: bold;\">\n",
    "<h2 style='font-weight: bold'>1. 정형 데이터의 특징</h2>\n",
    "</div>"
   ]
  },
  {
   "cell_type": "markdown",
   "metadata": {
    "deletable": false,
    "editable": false
   },
   "source": [
    "**정형 데이터**는 미리 정해 놓은 형식과 구조에 따라 저장되도록 구성된 데이터에요.  \n",
    "정형 데이터가 가지는 특징이 무엇인지, 어떻게 활용할 수 있을지 알아보아요.\n",
    "\n",
    "<table>\n",
    "<tr>\n",
    "    <th><img src=\"https://tmn-bucket-materials-all.s3.ap-northeast-2.amazonaws.com/image/ai/AI-02-01.png\" width=\"500\"></th>\n",
    "    </tr>\n",
    "<tr>\n",
    "    <th>정형 데이터와 비정형 데이터</th>\n",
    "</tr>\n",
    "</table>"
   ]
  },
  {
   "cell_type": "markdown",
   "metadata": {
    "deletable": false,
    "editable": false
   },
   "source": [
    "<div style=\"padding: 15px; border: 5px solid transparent; border-color: transparent; margin-bottom: 20px; border-radius: 4px; color: #31708f; border-color: #bce8f1;\">\n",
    "    <div style=\"font-weight: bold; font-size: 20px\">📌 TIP</div>\n",
    "표 형태로 나타낸 것이 정형 데이터로, 영상이나 언어 등의 비정형 데이터와 다른 구조에요.  \n",
    "</div>"
   ]
  },
  {
   "cell_type": "markdown",
   "metadata": {
    "deletable": false,
    "editable": false
   },
   "source": [
    "정형 데이터는 표와 같이 명확한 구조를 가지고 있어서 여러 장점을 가지고 있어요.\n",
    "* 행과 열로 모든 데이터를 표현할 수 있어, **컴퓨터가 접근**하기 쉬워요.\n",
    "* 각 열마다 **공통된 속성**(**숫자, 문자열, 날짜 등**)을 가지기 때문에 필요한 특징을 분석하기 쉬워요.\n",
    "* 데이터가 체계적으로 저장되어서 **저장 공간**이 많이 필요하지 않아요. \n",
    "* 데이터를 수집하거나 수정하는 등 **관리하기 편리**해요.\n",
    "\n",
    "<table>\n",
    "<tr>\n",
    "    <th><img src=\"https://tmn-bucket-materials-all.s3.ap-northeast-2.amazonaws.com/image/ai/AI-02-02.png\" width=\"500\"></th>\n",
    "    </tr>\n",
    "<tr>\n",
    "    <th>정형 데이터의 특징</th>\n",
    "</tr>\n",
    "</table>"
   ]
  },
  {
   "cell_type": "markdown",
   "metadata": {
    "deletable": false,
    "editable": false,
    "id": "EQSQv_VTqpWp"
   },
   "source": [
    "### **정형 데이터 수집**\n",
    "인공지능 학습에 사용하는 정형 데이터를 제공하는 여러 사이트가 있어요.  \n",
    "여기서는 대표적으로 두 가지 예시를 소개할게요.   \n",
    "* 공공 데이터 포털(https://www.data.go.kr/): 다양한 분야의 데이터가 있지만, 때때로 값이 고르지 못해 전처리 과정이 필요하기도 해요.\n",
    "* 캐글(https://www.kaggle.com/): 주어진 데이터로 과제를 해결하기 위한 대회 플랫폼이에요. 대회를 위한 데이터를 제공하기 때문에 어느 정도 전처리가 되어 있어요."
   ]
  },
  {
   "cell_type": "markdown",
   "metadata": {
    "deletable": false,
    "editable": false
   },
   "source": [
    "### **정형 데이터의 형태**\n",
    "\n",
    "정형 데이터의 형태는 CSV(Comma Separated Values), 관계형 데이터베이스, 스프레드시트 등 여러 가지가 있어요.  \n",
    "대표적인 예시인 CSV는, 아래와 같이 각 데이터 값을 쉼표로 구분하는 형태입니다.\n",
    "\n",
    "<table>\n",
    "<tr>\n",
    "    <th><img src=\"https://tmn-bucket-materials-all.s3.ap-northeast-2.amazonaws.com/image/ai/AI-02-03.gif\" width=\"500\"></th>\n",
    "    </tr>\n",
    "<tr>\n",
    "    <th>CSV 파일의 형태</th>\n",
    "</tr>\n",
    "</table>"
   ]
  },
  {
   "cell_type": "markdown",
   "metadata": {
    "deletable": false,
    "editable": false,
    "tags": []
   },
   "source": [
    "<div style=\"padding: 15px; border: 5px solid transparent; border-color: transparent; margin-bottom: 20px; border-radius: 4px; color: #3c763d; border-color: #d6e9c6; font-weight: bold;\">\n",
    "<h2 style='font-weight: bold'>2. 데이터 전처리 실습하기</h2>\n",
    "</div>"
   ]
  },
  {
   "cell_type": "markdown",
   "metadata": {
    "deletable": false,
    "editable": false
   },
   "source": [
    "인공지능을 좋은 방법으로 학습하는 것만큼 올바른 데이터를 사용하는 것도 중요해요.  \n",
    "원하는 성능으로 인공지능을 학습시키려면, 수집한 데이터를 전처리하여 데이터의 품질을 높여야 해요.  \n",
    "pandas를 사용하여, 정형 데이터에 대해 전처리하는 과정을 배워봐요."
   ]
  },
  {
   "cell_type": "markdown",
   "metadata": {
    "deletable": false,
    "editable": false
   },
   "source": [
    "### **pandas 라이브러리**\n",
    "\n",
    "pandas는 데이터를 분석하기 위한 python 라이브러리에요.  \n",
    "pandas를 활용하여, python으로 엑셀을 다루듯이 데이터 구조를 만들고 다룰 수 있어요.  \n",
    "\n",
    "* python만으로 데이터를 분석할 때보다 속도가 빨라요.\n",
    "* 누락된 데이터를 처리하기 용이해요.\n",
    "* 데이터 구조에 수정, 삽입 등 변형이 자유로워요."
   ]
  },
  {
   "cell_type": "markdown",
   "metadata": {
    "deletable": false,
    "editable": false
   },
   "source": [
    "### **pandas 라이브러리를 이용한 데이터 전처리**"
   ]
  },
  {
   "cell_type": "markdown",
   "metadata": {
    "deletable": false,
    "editable": false
   },
   "source": [
    "pandas를 사용하여 실제로 정형 데이터를 같이 확인해보고 누락된 데이터를 전처리해요.  \n",
    "1912년 타이타닉호 침몰 사고의 실제 데이터를 활용하여, 어떤 정보가 있는지 살펴봐요.  \n",
    "우선 csv파일 형태로 저장된 데이터 프레임을 불러오고 정보를 파악해보아요.  "
   ]
  },
  {
   "cell_type": "code",
   "execution_count": null,
   "metadata": {},
   "outputs": [],
   "source": [
    "# titanic 데이터 프레임 불러오기\n",
    "import pandas as pd\n",
    "import io\n",
    "import requests\n",
    "url = \"https://tmn-bucket-materials-all.s3.ap-northeast-2.amazonaws.com/data/2-4.+titanic.csv\"\n",
    "s = requests.get(url).content\n",
    "\n",
    "titanic = pd.read_csv(io.StringIO(s.decode('utf-8')))"
   ]
  },
  {
   "cell_type": "code",
   "execution_count": null,
   "metadata": {},
   "outputs": [],
   "source": [
    "# titanic 데이터 프레임의 정보 확인\n",
    "print('titanic 데이터 프레임의 크기:', titanic.shape)\n",
    "print(titanic.info( ))"
   ]
  },
  {
   "cell_type": "code",
   "execution_count": null,
   "metadata": {},
   "outputs": [],
   "source": [
    "titanic.head()"
   ]
  },
  {
   "cell_type": "code",
   "execution_count": null,
   "metadata": {},
   "outputs": [],
   "source": [
    "# titanic 데이터 프레임의 속성별 고유한 데이터의 개수\n",
    "titanic.nunique( )"
   ]
  },
  {
   "cell_type": "code",
   "execution_count": null,
   "metadata": {},
   "outputs": [],
   "source": [
    "# titanic['Survived'].unique( )\n",
    "# titanic['Sex'].unique( )\n",
    "# titanic['Pclass'].unique( )\n",
    "titanic['Embarked'].unique( )"
   ]
  },
  {
   "cell_type": "markdown",
   "metadata": {
    "deletable": false,
    "editable": false
   },
   "source": [
    "타이타닉 데이터 프레임에는 12가지의 데이터가 있다는 것을 확인했어요.  \n",
    "그러면 이제 데이터의 결측치를 확인하고, 각 데이터의 특성에 맞게 이를 전처리하여 해결해보아요."
   ]
  },
  {
   "cell_type": "code",
   "execution_count": null,
   "metadata": {},
   "outputs": [],
   "source": [
    "# 결측치 확인\n",
    "titanic.isnull( ).sum( )"
   ]
  },
  {
   "cell_type": "code",
   "execution_count": null,
   "metadata": {},
   "outputs": [],
   "source": [
    "titanic[[\"Age\", \"Cabin\", \"Embarked\"]].head(10)"
   ]
  },
  {
   "cell_type": "code",
   "execution_count": null,
   "metadata": {},
   "outputs": [],
   "source": [
    "# Age 데이터의 결측치 전처리\n",
    "titanic['Age'] = titanic['Age'].fillna(titanic['Age'].mean( ))\n",
    "titanic"
   ]
  },
  {
   "cell_type": "code",
   "execution_count": null,
   "metadata": {},
   "outputs": [],
   "source": [
    "# Embarked 데이터의 결측치 전처리\n",
    "titanic.groupby('Embarked')['PassengerId'].count( )"
   ]
  },
  {
   "cell_type": "code",
   "execution_count": null,
   "metadata": {},
   "outputs": [],
   "source": [
    "titanic['Embarked'] = titanic['Embarked'].fillna('S')"
   ]
  },
  {
   "cell_type": "code",
   "execution_count": null,
   "metadata": {},
   "outputs": [],
   "source": [
    "# 결측치 재확인\n",
    "titanic.isnull( ).sum( )"
   ]
  },
  {
   "cell_type": "markdown",
   "metadata": {
    "deletable": false,
    "editable": false
   },
   "source": [
    "<div style=\"padding: 15px; border: 5px solid transparent; border-color: transparent; margin-bottom: 20px; border-radius: 4px; color: #8a6d3b;  border-color: #faebcc;\">\n",
    "    <div style=\"font-weight: bold; font-size: 20px\">💯 연습문제를 풀어봅시다</div>\n",
    "    \n",
    "1. <a class=\"jcecodle-mk jcecodle-mk__problem-chip\" data-problem-id=\"5m7SDG-ud94\" href='#jce-judge/open/5m7SDG-ud94' target='_self'><span>데이터 전처리 연습</span></a>\n",
    "2. <a class=\"jcecodle-mk jcecodle-mk__problem-chip\" data-problem-id=\"L42tTfYUbxk\" href='#jce-judge/open/L42tTfYUbxk' target='_self'><span>가계부 결측값 변경</span></a>\n",
    "3. <a class=\"jcecodle-mk jcecodle-mk__problem-chip\" data-problem-id=\"1a5lam-7dW8\" href='#jce-judge/open/1a5lam-7dW8' target='_self'><span>판다스 - 결측값 처리 - 일괄 변경</span></a>\n",
    "4. <a class=\"jcecodle-mk jcecodle-mk__problem-chip\" data-problem-id=\"Rx-lpctLFg4\" href='#jce-judge/open/Rx-lpctLFg4' target='_self'><span>판다스 - 결측값 처리 - 열에 따라 변경 (3)</span></a>"
   ]
  }
 ],
 "metadata": {
  "colab": {
   "provenance": []
  },
  "kernelspec": {
   "display_name": "Python 3 (ipykernel)",
   "language": "python",
   "name": "python3"
  },
  "language_info": {
   "codemirror_mode": {
    "name": "ipython",
    "version": 3
   },
   "file_extension": ".py",
   "mimetype": "text/x-python",
   "name": "python",
   "nbconvert_exporter": "python",
   "pygments_lexer": "ipython3",
   "version": "3.11.3"
  },
  "read_only": true,
  "vscode": {
   "interpreter": {
    "hash": "8c352b738e5f22da9f29eb9cb9994f25c5223ab3395af3650b8321ab644afce4"
   }
  }
 },
 "nbformat": 4,
 "nbformat_minor": 4
}
